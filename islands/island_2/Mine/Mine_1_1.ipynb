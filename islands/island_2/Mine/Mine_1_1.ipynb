{
 "cells": [
  {
   "cell_type": "markdown",
   "metadata": {
    "minecraft": {
     "onCodeCancelledCommand": "scoreboard players set @s codeExecution 0",
     "onCodeErrorCommand": "scoreboard players set @s codeExecution -1",
     "onCodeStartedCommand": "scoreboard players set @s codeExecution 1",
     "onCodeStoppedCommand": "scoreboard players set @s codeExecution 0",
     "onCodeSuccessfulCommand": "scoreboard players set @s codeExecution 2"
    }
   },
   "source": [
    "## Scanning the gravel pit\n",
    "\n",
    "With your rough program from the previous section created, now add in **agent.move()** to block by block, move your agent around the gravel area.  \n",
    "\n",
    "**Complete the code below, to also move your agent each time it is run.**"
   ]
  },
  {
   "cell_type": "code",
   "execution_count": null,
   "metadata": {
    "minecraft": {
     "closeCodeBuilderOnRun": true,
     "onCodeCancelledCommand": "scoreboard players set @s codeExecution 0",
     "onCodeErrorCommand": "scoreboard players set @s codeExecution -1",
     "onCodeStartedCommand": "scoreboard players set @s codeExecution 1",
     "onCodeStoppedCommand": "scoreboard players set @s codeExecution 0",
     "onCodeSuccessfulCommand": "scoreboard players set @s codeExecution 2",
     "overridePython": "def check_ground_stable():\n    if agent.position.x == 88 and agent.position.y == 146 and agent.position.z == 167:\n        return False\n    else:\n        return True\n\ndef alert():\n    if agent.position.x == 88 and agent.position.y == 146 and agent.position.z == 167:\n        say(\"Unstable ground alert!!!\")\n        agent.destroy(\"down\")\n    else:\n        say(\"This seems to be a false alarm, this ground seems pretty stable...\")\n@user-code"
    }
   },
   "outputs": [],
   "source": [
    "\n",
    "\n",
    "if check_       == False:\n",
    "    say(\"Unstable ground detected!\")\n",
    "    "
   ]
  },
  {
   "cell_type": "markdown",
   "metadata": {
    "minecraft": {
     "onCodeCancelledCommand": "scoreboard players set @s codeExecution 0",
     "onCodeErrorCommand": "scoreboard players set @s codeExecution -1",
     "onCodeStartedCommand": "scoreboard players set @s codeExecution 1",
     "onCodeStoppedCommand": "scoreboard players set @s codeExecution 0",
     "onCodeSuccessfulCommand": "scoreboard players set @s codeExecution 2"
    }
   },
   "source": [
    "Once your code is complete, try using it to check each gravel block to find if any are unstable."
   ]
  },
  {
   "cell_type": "code",
   "execution_count": null,
   "metadata": {
    "minecraft": {
     "closeCodeBuilderOnRun": true,
     "onCodeCancelledCommand": "scoreboard players set @s codeExecution 0",
     "onCodeErrorCommand": "scoreboard players set @s codeExecution -1",
     "onCodeStartedCommand": "scoreboard players set @s codeExecution 1",
     "onCodeStoppedCommand": "scoreboard players set @s codeExecution 0",
     "onCodeSuccessfulCommand": "scoreboard players set @s codeExecution 2",
     "overridePython": "def check_ground_stable():\n    if agent.position.x == 88 and agent.position.y == 146 and agent.position.z == 167:\n        return False\n    else:\n        return True\n\ndef alert():\n    if agent.position.x == 88 and agent.position.y == 146 and agent.position.z == 167:\n        say(\"Unstable ground alert!!!\")\n        agent.destroy(\"down\")\n    else:\n        say(\"This seems to be a false alarm, this ground seems pretty stable...\")\n@user-code"
    }
   },
   "outputs": [],
   "source": [
    "# Final code\n",
    "# Must be run twice\n",
    "\n",
    "agent.move(\"forward\")\n",
    "if check_ground_stable()       == False:\n",
    "    say(\"Unstable ground detected!\")\n",
    "    alert()"
   ]
  }
 ],
 "metadata": {
  "kernelspec": {
   "display_name": "Python 3",
   "language": "python",
   "name": "python3"
  },
  "language_info": {
   "codemirror_mode": {
    "name": "ipython",
    "version": 3
   },
   "file_extension": ".py",
   "mimetype": "text/x-python",
   "name": "python",
   "nbconvert_exporter": "python",
   "pygments_lexer": "ipython3",
   "version": "3.8.3"
  },
  "minecraft": {
   "description": "Section 2",
   "page_id": "1.1",
   "page_name": "Section 2",
   "style": "minecraft.css"
  }
 },
 "nbformat": 4,
 "nbformat_minor": 4
}
