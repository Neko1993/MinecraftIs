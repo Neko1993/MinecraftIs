{
 "cells": [
  {
   "cell_type": "markdown",
   "metadata": {
    "minecraft": {
     "onCodeCancelledCommand": "scoreboard players set @s codeExecution 0",
     "onCodeErrorCommand": "scoreboard players set @s codeExecution -1",
     "onCodeStartedCommand": "scoreboard players set @s codeExecution 1",
     "onCodeStoppedCommand": "scoreboard players set @s codeExecution 0",
     "onCodeSuccessfulCommand": "scoreboard players set @s codeExecution 2"
    }
   },
   "source": [
    "## Finding Iron\n",
    "   \n",
    "![Dark mineshaft](dark_mine.jpg)\n",
    "\n",
    "There seems to be a collection of old mineshafts, going off from the main tunnel. Rumour has it that these have unexplored deposits of iron.   \n",
    "Unfortunately, though, it's too dark to what is at the end of the shafts. Perhaps you should guide your agent down the shafts to check if there is iron?   \n",
    "\n",
    "Using your agent, check each of the 5 mine shafts, to see if they have any iron ore right at the end, in the darkness. If there is, you should mine it!   \n",
    "You will likely need to use each of the below commands at least once in your program.     \n",
    "```python\n",
    "agent.move(DIRECTION)\n",
    "agent.destroy(DIRECTION)\n",
    "agent.inspect(DIRECTION)\n",
    "```\n",
    "\n",
    "Finally, don't forget to use your **whistle** with this task!\n",
    "\n",
    "**Write a program that, if your agent detects \"iron_ore\", it breaks it. Be careful though not to break any other blocks!**"
   ]
  },
  {
   "cell_type": "code",
   "execution_count": null,
   "metadata": {
    "minecraft": {
     "closeCodeBuilderOnRun": true,
     "onCodeCancelledCommand": "scoreboard players set @s codeExecution 0",
     "onCodeErrorCommand": "scoreboard players set @s codeExecution -1",
     "onCodeStartedCommand": "scoreboard players set @s codeExecution 1",
     "onCodeStoppedCommand": "scoreboard players set @s codeExecution 0",
     "onCodeSuccessfulCommand": "scoreboard players set @s codeExecution 2"
    }
   },
   "outputs": [],
   "source": [
    "agent.move(  )\n",
    "\n",
    "if     ==\n",
    "\n",
    "\n",
    "else\n",
    "    say(\"No iron found!\")\n",
    "\n",
    "# Add your code above"
   ]
  },
  {
   "cell_type": "markdown",
   "metadata": {
    "minecraft": {
     "onCodeCancelledCommand": "scoreboard players set @s codeExecution 0",
     "onCodeErrorCommand": "scoreboard players set @s codeExecution -1",
     "onCodeStartedCommand": "scoreboard players set @s codeExecution 1",
     "onCodeStoppedCommand": "scoreboard players set @s codeExecution 0",
     "onCodeSuccessfulCommand": "scoreboard players set @s codeExecution 2"
    }
   },
   "source": [
    "Once you have finished the program, hit the run button above. To complete this task, you must search all five mineshafts to find which shafts contain iron ore blocks at the end of them."
   ]
  },
  {
   "cell_type": "code",
   "execution_count": null,
   "metadata": {
    "default_code": "# Final code\n# Run multiple times each mine shaft, then use your whistle to move to the next\n\nagent.move(\"forward\")\n\nif agent.inspect(\"forward\")    == \"iron_ore\":\n    agent.destroy(\"forward\")\n\n\nelse:\n    say(\"No iron found!\")",
    "minecraft": {
     "hidden": true
    }
   },
   "outputs": [],
   "source": [
    "# Final code\n",
    "# Run multiple times each mine shaft, then use your whistle to move to the next\n",
    "\n",
    "agent.move(\"forward\")\n",
    "\n",
    "if agent.inspect(\"forward\")    == \"iron_ore\":\n",
    "    agent.destroy(\"forward\")\n",
    "\n",
    "\n",
    "else:\n",
    "    say(\"No iron found!\")"
   ]
  }
 ],
 "metadata": {
  "kernelspec": {
   "display_name": "Python 3",
   "language": "python",
   "name": "python3"
  },
  "language_info": {
   "codemirror_mode": {
    "name": "ipython",
    "version": 3
   },
   "file_extension": ".py",
   "mimetype": "text/x-python",
   "name": "python",
   "nbconvert_exporter": "python",
   "pygments_lexer": "ipython3",
   "version": "3.8.3rc1"
  },
  "minecraft": {
   "description": "Section 2",
   "page_id": "2.0",
   "page_name": "Section 2",
   "style": "minecraft.css"
  }
 },
 "nbformat": 4,
 "nbformat_minor": 4
}
