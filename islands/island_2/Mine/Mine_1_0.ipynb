{
 "cells": [
  {
   "cell_type": "markdown",
   "metadata": {
    "minecraft": {
     "onCodeCancelledCommand": "scoreboard players set @s codeExecution 0",
     "onCodeErrorCommand": "scoreboard players set @s codeExecution -1",
     "onCodeStartedCommand": "scoreboard players set @s codeExecution 1",
     "onCodeStoppedCommand": "scoreboard players set @s codeExecution 0",
     "onCodeSuccessfulCommand": "scoreboard players set @s codeExecution 2"
    }
   },
   "source": [
    "# Testing the unstable ground\n",
    "With an area of unstable ground having opened up, use your agent to test each block to check it is safe.   \n",
    "\n",
    "![Unstable ground](cover1.jpg)"
   ]
  },
  {
   "cell_type": "markdown",
   "metadata": {
    "minecraft": {
     "onCodeCancelledCommand": "scoreboard players set @s codeExecution 0",
     "onCodeErrorCommand": "scoreboard players set @s codeExecution -1",
     "onCodeStartedCommand": "scoreboard players set @s codeExecution 1",
     "onCodeStoppedCommand": "scoreboard players set @s codeExecution 0",
     "onCodeSuccessfulCommand": "scoreboard players set @s codeExecution 2"
    }
   },
   "source": [
    "## Testing the ground\n",
    "\n",
    "You have been informed by the miner that an area of ground has opened up and sank down. He is concerned that the ground below could be unstable and has asked if you can use your agent (which can float), to check each block individually to see if it is safe.   \n",
    "\n",
    "To do this, he has provided your agent with a special Python function.\n",
    "```check_ground_stable()```\n",
    "\n",
    "This function will provide back:\n",
    "- **True**  : If the ground below your agent is stable.\n",
    "- **False** : If the ground below your agent is unstable.\n",
    "\n",
    "**Try running the below code to test out the miners function.**"
   ]
  },
  {
   "cell_type": "code",
   "execution_count": null,
   "metadata": {
    "minecraft": {
     "closeCodeBuilderOnRun": true,
     "hidden": true,
     "onCodeCancelledCommand": "scoreboard players set @s codeExecution 0",
     "onCodeErrorCommand": "scoreboard players set @s codeExecution -1",
     "onCodeStartedCommand": "scoreboard players set @s codeExecution 1",
     "onCodeStoppedCommand": "scoreboard players set @s codeExecution 0",
     "onCodeSuccessfulCommand": "scoreboard players set @s codeExecution 2"
    }
   },
   "outputs": [],
   "source": [
    "def check_ground_stable():\n",
    "    if agent.position.x == 88 and agent.position.y == 146 and agent.position.z == 167:\n",
    "        return False\n",
    "    else:\n",
    "        return True\n",
    "\n",
    "def alert():\n",
    "    if agent.position.x == 88 and agent.position.y == 146 and agent.position.z == 167:\n",
    "        say(\"Unstable ground alert!!!\")\n",
    "        agent.destroy(\"down\")\n",
    "    else:\n",
    "        say(\"This seems to be a false alarm, this ground seems pretty stable...\")"
   ]
  },
  {
   "cell_type": "code",
   "execution_count": null,
   "metadata": {
    "minecraft": {
     "closeCodeBuilderOnRun": true,
     "onCodeCancelledCommand": "scoreboard players set @s codeExecution 0",
     "onCodeErrorCommand": "scoreboard players set @s codeExecution -1",
     "onCodeStartedCommand": "scoreboard players set @s codeExecution 1",
     "onCodeStoppedCommand": "scoreboard players set @s codeExecution 0",
     "onCodeSuccessfulCommand": "scoreboard players set @s codeExecution 2",
     "overridePython": "def check_ground_stable():\n    if agent.position.x == 88 and agent.position.y == 146 and agent.position.z == 167:\n        return False\n    else:\n        return True\n\ndef alert():\n    if agent.position.x == 88 and agent.position.y == 146 and agent.position.z == 167:\n        say(\"Unstable ground alert!!!\")\n        agent.destroy(\"down\")\n    else:\n        say(\"This seems to be a false alarm, this ground seems pretty stable...\")\n@user-code",
     "readonly": true
    }
   },
   "outputs": [],
   "source": [
    "say(check_ground_stable())\n",
    "# Try running the above code, is the ground below the agent stable?"
   ]
  },
  {
   "cell_type": "markdown",
   "metadata": {
    "minecraft": {
     "onCodeCancelledCommand": "scoreboard players set @s codeExecution 0",
     "onCodeErrorCommand": "scoreboard players set @s codeExecution -1",
     "onCodeStartedCommand": "scoreboard players set @s codeExecution 1",
     "onCodeStoppedCommand": "scoreboard players set @s codeExecution 0",
     "onCodeSuccessfulCommand": "scoreboard players set @s codeExecution 2"
    }
   },
   "source": [
    "## Alerting\n",
    "\n",
    "The miner has also provided you with a second function\n",
    "```alert()```\n",
    "You should run this piece of code if you find any unstable ground.   \n",
    "\n",
    "Don't forget to keep an eye on your indentation! Code that is to be included inside your **if statement** should be indented 1 level, like below.     \n",
    "\n",
    "**Using what you learnt in the previous sections on if statements, create a program that runs alert() if the unstable ground is detected**"
   ]
  },
  {
   "cell_type": "code",
   "execution_count": null,
   "metadata": {
    "minecraft": {
     "closeCodeBuilderOnRun": true,
     "onCodeCancelledCommand": "scoreboard players set @s codeExecution 0",
     "onCodeErrorCommand": "scoreboard players set @s codeExecution -1",
     "onCodeStartedCommand": "scoreboard players set @s codeExecution 1",
     "onCodeStoppedCommand": "scoreboard players set @s codeExecution 0",
     "onCodeSuccessfulCommand": "scoreboard players set @s codeExecution 2",
     "overridePython": "def check_ground_stable():\n    if agent.position.x == 88 and agent.position.y == 146 and agent.position.z == 167:\n        return False\n    else:\n        return True\n\ndef alert():\n    if agent.position.x == 88 and agent.position.y == 146 and agent.position.z == 167:\n        say(\"Unstable ground alert!!!\")\n        agent.destroy(\"down\")\n    else:\n        say(\"This seems to be a false alarm, this ground seems pretty stable...\")\n@user-code"
    }
   },
   "outputs": [],
   "source": [
    "if check_       == False:\n",
    "    say(\"Unstable ground detected!\")\n",
    "    \n",
    "    \n",
    "    # Finish off line 1 above and add in alert() after the say()"
   ]
  },
  {
   "cell_type": "markdown",
   "metadata": {
    "minecraft": {
     "onCodeCancelledCommand": "scoreboard players set @s codeExecution 0",
     "onCodeErrorCommand": "scoreboard players set @s codeExecution -1",
     "onCodeStartedCommand": "scoreboard players set @s codeExecution 1",
     "onCodeStoppedCommand": "scoreboard players set @s codeExecution 0",
     "onCodeSuccessfulCommand": "scoreboard players set @s codeExecution 2"
    }
   },
   "source": [
    "Great! When you're ready, click next to go to the next section."
   ]
  }
 ],
 "metadata": {
  "kernelspec": {
   "display_name": "Python 3",
   "language": "python",
   "name": "python3"
  },
  "language_info": {
   "codemirror_mode": {
    "name": "ipython",
    "version": 3
   },
   "file_extension": ".py",
   "mimetype": "text/x-python",
   "name": "python",
   "nbconvert_exporter": "python",
   "pygments_lexer": "ipython3",
   "version": "3.8.3"
  },
  "minecraft": {
   "description": "Section 1",
   "page_id": "1.0",
   "page_name": "Section 1",
   "style": "minecraft.css"
  }
 },
 "nbformat": 4,
 "nbformat_minor": 4
}
