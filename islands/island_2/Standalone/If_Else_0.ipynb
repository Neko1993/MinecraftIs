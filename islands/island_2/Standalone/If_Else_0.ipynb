{
 "cells": [
  {
   "cell_type": "markdown",
   "metadata": {},
   "source": [
    "# Using the if and else\n",
    "In this activity, you will be exploring if / else operations in Python.\n",
    "\n"
   ]
  },
  {
   "cell_type": "markdown",
   "metadata": {},
   "source": [
    "## Making decisions in Python\n",
    "\n",
    "It is common in programming to need to make a decision. In a decision, you want to run some code **if** a condition is **True**.  \n",
    "\n",
    "\n",
    "For example, a common decision we have to make all the time is whether to put a rain coat on.     \n",
    "If it is raining ---> then we should put a coat on!\n",
    "\n",
    "In Python, we can approach this like below:\n",
    "\n",
    "```python\n",
    "if world.weather == \"rain\":\n",
    "    say(\"Put on a coat!\")\n",
    "```\n",
    "\n",
    "\n",
    "**Finish off the program below to check if the world.weather is \"thunder\". Add a message to say() on line 2, if there is thunder. Use the example above to help you.**"
   ]
  },
  {
   "cell_type": "code",
   "execution_count": null,
   "metadata": {
    "minecraft": {
     "closeCodeBuilderOnRun": true,
     "onCodeCancelledCommand": "scoreboard players set @s codeExecution 0",
     "onCodeErrorCommand": "scoreboard players set @s codeExecution -1",
     "onCodeStartedCommand": "scoreboard players set @s codeExecution 1",
     "onCodeStoppedCommand": "scoreboard players set @s codeExecution 0",
     "onCodeSuccessfulCommand": "scoreboard players set @s codeExecution 2",
     "overridePython": "import random\ncurrent_weather = random.choice((\"thunder\", \"clear\"))\nworld.set_weather(current_weather)\nimport time\ntime.sleep(1)\n@user-code",
     "readonly": false,
     "resetWorldCommand": "weather clear"
    }
   },
   "outputs": [],
   "source": [
    "if  == \"\":\n",
    "    say(\"\")"
   ]
  },
  {
   "cell_type": "markdown",
   "metadata": {},
   "source": [
    "## What about if it isn't raining?\n",
    "\n",
    "We have covered how to handle if something is the case, but what if it isn't?   \n",
    "What if it isn't raining?\n",
    "\n",
    "To hand if it is not, we use an **else**. Else allows code to be run `if all else fails` as such.   \n",
    "In Python, \"else's\" are implemented as can be seen below:\n",
    "\n",
    "```python\n",
    "if world.weather == \"rain\":\n",
    "    say(\"Put on a coat!\")\n",
    "else:\n",
    "    say(\"Just put on a jumper\")\n",
    "```\n",
    "\n",
    "**Finish off the program below to check if the weather is \"thunder\", also handling if it isn't thunder. Use the example above to help you.**"
   ]
  },
  {
   "cell_type": "code",
   "execution_count": null,
   "metadata": {
    "minecraft": {
     "closeCodeBuilderOnRun": true,
     "onCodeCancelledCommand": "scoreboard players set @s codeExecution 0",
     "onCodeErrorCommand": "scoreboard players set @s codeExecution -1",
     "onCodeStartedCommand": "scoreboard players set @s codeExecution 1",
     "onCodeStoppedCommand": "scoreboard players set @s codeExecution 0",
     "onCodeSuccessfulCommand": "scoreboard players set @s codeExecution 2",
     "overridePython": "import random\ncurrent_weather = random.choice((\"thunder\", \"clear\"))\nworld.set_weather(current_weather)\nimport time\ntime.sleep(1)\n@user-code",
     "readonly": false,
     "resetWorldCommand": "weather clear"
    }
   },
   "outputs": [],
   "source": [
    "if  == \"\":\n",
    "    say(\"It's          , quickly get inside!\")\n",
    "else:\n",
    "    say(\"It's       outside!\")"
   ]
  },
  {
   "cell_type": "markdown",
   "metadata": {},
   "source": [
    "Once you have finished, click the next button below to move on."
   ]
  }
 ],
 "metadata": {
  "kernelspec": {
   "display_name": "Python 3",
   "language": "python",
   "name": "python3"
  },
  "language_info": {
   "codemirror_mode": {
    "name": "ipython",
    "version": 3
   },
   "file_extension": ".py",
   "mimetype": "text/x-python",
   "name": "python",
   "nbconvert_exporter": "python",
   "pygments_lexer": "ipython3",
   "version": "3.8.5"
  },
  "minecraft": {
   "description": "Secton 1",
   "page_id": "3.0",
   "page_name": "Section 1",
   "style": "minecraft.css"
  }
 },
 "nbformat": 4,
 "nbformat_minor": 4
}
