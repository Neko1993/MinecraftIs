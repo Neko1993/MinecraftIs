{
 "cells": [
  {
   "cell_type": "markdown",
   "metadata": {},
   "source": [
    "## Indentation\n",
    "\n",
    "Indentation is the number of blank spaces at the start of a line. In Python, indentation is used to signify which pieces of code are contained within which structure. You can see an example of indentation below.\n",
    "\n",
    "The two say lines within the if statement that are indented, only run if the if statement is true. \n",
    "\n",
    "Directly following this, the final line is run.   \n",
    "However, if the name is not bob, then only the final say will run.   \n",
    "\n",
    "**Run the program below with the Run button. Try changing the name, checking what happens. Which lines of code run?**"
   ]
  },
  {
   "cell_type": "code",
   "execution_count": null,
   "metadata": {
    "minecraft": {
     "closeCodeBuilderOnRun": true,
     "onCodeCancelledCommand": "scoreboard players set @s codeExecution 0",
     "onCodeErrorCommand": "scoreboard players set @s codeExecution -1",
     "onCodeStartedCommand": "scoreboard players set @s codeExecution 1",
     "onCodeStoppedCommand": "scoreboard players set @s codeExecution 0",
     "onCodeSuccessfulCommand": "scoreboard players set @s codeExecution 2",
     "readonly": false
    }
   },
   "outputs": [],
   "source": [
    "# Try changing the name below\n",
    "name = \"bob\"\n",
    "# See the affects of the changed name below.\n",
    "if name == \"bob\":\n",
    "    say(\"This runs inside the if statement\")\n",
    "    say(\"So does this\")\n",
    "say(\"Where as this runs outside the if statement\")\n"
   ]
  },
  {
   "cell_type": "markdown",
   "metadata": {},
   "source": [
    "## Fixing code\n",
    "\n",
    "With everything you have learnt now, the code below is not running as expected. Can you fix it?   \n",
    "\n",
    "**Fix the below code so, it runs as expected. Remember to add the correct indentation or missing colons:**"
   ]
  },
  {
   "cell_type": "code",
   "execution_count": null,
   "metadata": {
    "default_code": "# Try changing the name below\ncurrent_weather = world.weather\n\nif current_weather == \"clear\"\nsay(\"The weather is nice and clear\")\nsay(\"No coat needed!\")\nelse\nsay(\"It's raining! Get your coat quick!\")\nsay(\"And that completes your weather information\")",
    "minecraft": {
     "closeCodeBuilderOnRun": true,
     "onCodeCancelledCommand": "scoreboard players set @s codeExecution 0",
     "onCodeErrorCommand": "scoreboard players set @s codeExecution -1",
     "onCodeStartedCommand": "scoreboard players set @s codeExecution 1",
     "onCodeStoppedCommand": "scoreboard players set @s codeExecution 0",
     "onCodeSuccessfulCommand": "scoreboard players set @s codeExecution 2",
     "readonly": false
    }
   },
   "outputs": [],
   "source": [
    "# Try changing the name below\n",
    "current_weather = world.weather\n",
    "\n",
    "if current_weather == \"clear\"\n",
    "say(\"The weather is nice and clear\")\n",
    "say(\"No coat needed!\")\n",
    "else\n",
    "say(\"It's raining! Get your coat quick!\")\n",
    "say(\"And that completes your weather information\")\n"
   ]
  },
  {
   "cell_type": "markdown",
   "metadata": {},
   "source": [
    "Once you have finished, select the run button below to complete the task."
   ]
  },
  {
   "cell_type": "code",
   "execution_count": null,
   "metadata": {
    "minecraft": {
     "closeCodeBuilderOnRun": true,
     "onCodeCancelledCommand": "scoreboard players set @s codeExecution 0",
     "onCodeErrorCommand": "scoreboard players set @s codeExecution -1",
     "onCodeStartedCommand": "scoreboard players set @s codeExecution 1",
     "onCodeStoppedCommand": "scoreboard players set @s codeExecution 0",
     "onCodeSuccessfulCommand": "scoreboard players set @s f2-if-else-done -1",
     "readonly": true
    }
   },
   "outputs": [],
   "source": [
    "say(\"Task complete\")\n",
    "\n"
   ]
  }
 ],
 "metadata": {
  "kernelspec": {
   "display_name": "Python 3",
   "language": "python",
   "name": "python3"
  },
  "language_info": {
   "codemirror_mode": {
    "name": "ipython",
    "version": 3
   },
   "file_extension": ".py",
   "mimetype": "text/x-python",
   "name": "python",
   "nbconvert_exporter": "python",
   "pygments_lexer": "ipython3",
   "version": "3.8.3rc1"
  },
  "minecraft": {
   "description": "Secton 2",
   "page_id": "3.0",
   "page_name": "Section 2",
   "style": "minecraft.css"
  }
 },
 "nbformat": 4,
 "nbformat_minor": 4
}
