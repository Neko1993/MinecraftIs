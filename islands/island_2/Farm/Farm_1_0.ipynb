{
 "cells": [
  {
   "cell_type": "markdown",
   "metadata": {
    "minecraft": {
     "onCodeCancelledCommand": "scoreboard players set @s codeExecution 0",
     "onCodeErrorCommand": "scoreboard players set @s codeExecution -1",
     "onCodeStartedCommand": "scoreboard players set @s codeExecution 1",
     "onCodeStoppedCommand": "scoreboard players set @s codeExecution 0",
     "onCodeSuccessfulCommand": "scoreboard players set @s codeExecution 2"
    }
   },
   "source": [
    "# Carrot and Wheat Checking\n",
    "\n",
    "Peter had some of his wheat and carrot seeds mixed up while planting them. As your agent can detect **any** block, it can be programmed to check the seeds. Let's get started!\n",
    "\n",
    "![Cover image of Peter](PeterCover.png)\n"
   ]
  },
  {
   "cell_type": "markdown",
   "metadata": {
    "minecraft": {
     "onCodeCancelledCommand": "scoreboard players set @s codeExecution 0",
     "onCodeErrorCommand": "scoreboard players set @s codeExecution -1",
     "onCodeStartedCommand": "scoreboard players set @s codeExecution 1",
     "onCodeStoppedCommand": "scoreboard players set @s codeExecution 0",
     "onCodeSuccessfulCommand": "scoreboard players set @s codeExecution 2"
    }
   },
   "source": [
    "#### Introduction\n",
    "Peter has two special functions you can use to mark the seeds:\n",
    "- `accept()`: Marks a wheat seed below.\n",
    "- `deny()`: Marks a carrot seed below.\n",
    "\n",
    "## Step 1\n",
    "\n",
    "To start, we will need to move our agent forward 3 blocks, to the first seed marked by the white marker in the world.   \n",
    "\n",
    "In case you need a refresher, \n",
    "```python\n",
    "agent.move(\"back\")\n",
    "```\n",
    "Directions available are `back`, `forward`, `left`, `right`, `up` and `down`.\n",
    "\n",
    "**Move your agent 3 blocks forward by completing the code below!**"
   ]
  },
  {
   "cell_type": "code",
   "execution_count": null,
   "metadata": {
    "minecraft": {
     "closeCodeBuilderOnRun": true,
     "onCodeCancelledCommand": "scoreboard players set @s codeExecution 0",
     "onCodeErrorCommand": "scoreboard players set @s codeExecution -1",
     "onCodeStartedCommand": "scoreboard players set @s codeExecution 1",
     "onCodeStoppedCommand": "scoreboard players set @s codeExecution 0",
     "onCodeSuccessfulCommand": "scoreboard players set @s codeExecution 2",
     "overridePython": "def accept():\n    agent.place(1, \"up\")\ndef deny():\n    agent.place(2, \"up\")\n@user-code"
    }
   },
   "outputs": [],
   "source": [
    "agent.move(     ) \n",
    "\n",
    "\n",
    "\n",
    "# Complete the code above You will need multiple lines of code.   "
   ]
  },
  {
   "cell_type": "markdown",
   "metadata": {
    "minecraft": {
     "onCodeCancelledCommand": "scoreboard players set @s codeExecution 0",
     "onCodeErrorCommand": "scoreboard players set @s codeExecution -1",
     "onCodeStartedCommand": "scoreboard players set @s codeExecution 1",
     "onCodeStoppedCommand": "scoreboard players set @s codeExecution 0",
     "onCodeSuccessfulCommand": "scoreboard players set @s codeExecution 2"
    }
   },
   "source": [
    "## Step 2\n",
    "\n",
    "Now that your agent is above some seeds. Let's inspect what seeds they are! Your agent can inspect blocks using `agent.inspect`.\n",
    "\n",
    "Here's how it works...\n",
    "```python\n",
    "agent.inspect(direction)\n",
    "```\n",
    "\n",
    "- `direction`: The direction you want your agent to inspect. The directions are `up`, `down`, `left`, `right`, `forward` and `back`.\n",
    "\n",
    "**Make the agent inspect down, and say the value stored in `block`!**"
   ]
  },
  {
   "cell_type": "code",
   "execution_count": null,
   "metadata": {
    "minecraft": {
     "closeCodeBuilderOnRun": true,
     "onCodeCancelledCommand": "scoreboard players set @s codeExecution 0",
     "onCodeErrorCommand": "scoreboard players set @s codeExecution -1",
     "onCodeStartedCommand": "scoreboard players set @s codeExecution 1",
     "onCodeStoppedCommand": "scoreboard players set @s codeExecution 0",
     "onCodeSuccessfulCommand": "scoreboard players set @s codeExecution 2",
     "overridePython": "def accept():\n    agent.place(1, \"up\")\ndef deny():\n    agent.place(2, \"up\")\n@user-code"
    }
   },
   "outputs": [],
   "source": [
    "block = agent.inspect(     )\n",
    "# Complete the code above\n",
    "\n",
    "\n",
    "# Add a say above, saying the value of 'block'"
   ]
  },
  {
   "cell_type": "markdown",
   "metadata": {},
   "source": [
    "When you're ready, press next to go to the next section."
   ]
  }
 ],
 "metadata": {
  "kernelspec": {
   "display_name": "Python 3",
   "language": "python",
   "name": "python3"
  },
  "language_info": {
   "codemirror_mode": {
    "name": "ipython",
    "version": 3
   },
   "file_extension": ".py",
   "mimetype": "text/x-python",
   "name": "python",
   "nbconvert_exporter": "python",
   "pygments_lexer": "ipython3",
   "version": "3.8.5"
  },
  "minecraft": {
   "description": "Section 1",
   "page_id": "1.0",
   "page_name": "Section 1",
   "style": "minecraft.css"
  }
 },
 "nbformat": 4,
 "nbformat_minor": 4
}
