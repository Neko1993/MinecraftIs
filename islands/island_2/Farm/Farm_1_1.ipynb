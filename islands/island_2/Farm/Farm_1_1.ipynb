{
 "cells": [
  {
   "cell_type": "markdown",
   "metadata": {
    "minecraft": {
     "onCodeCancelledCommand": "scoreboard players set @s codeExecution 0",
     "onCodeErrorCommand": "scoreboard players set @s codeExecution -1",
     "onCodeStartedCommand": "scoreboard players set @s codeExecution 1",
     "onCodeStoppedCommand": "scoreboard players set @s codeExecution 0",
     "onCodeSuccessfulCommand": "scoreboard players set @s codeExecution 2"
    }
   },
   "source": [
    "## Step 3\n",
    "\n",
    "From our last step, the agent outputted the seed that is detected, which was `wheat`. Now we want to make some code that will choose what to do when your agent finds wheat. For this, we will use an `if` statement. \n",
    "\n",
    "Here's a reminder of what it looks like...\n",
    "```python\n",
    "if(condition):\n",
    "    # Code to run if condition is true\n",
    "```\n",
    "\n",
    "__Remember we use one = sign to assign the value of a variable and two (==) for comparison, to check if the value of those variables are equal.__\n",
    "\n",
    "For example\n",
    "```python\n",
    "name = \"bob\"\n",
    "if (name == \"bob\"):\n",
    "    say(\"It's bob!\")\n",
    "```\n",
    "\n",
    "**Can you complete the `if` to check if the block is *equal to* `\"wheat\"`**"
   ]
  },
  {
   "cell_type": "code",
   "execution_count": null,
   "metadata": {
    "minecraft": {
     "closeCodeBuilderOnRun": true,
     "onCodeCancelledCommand": "scoreboard players set @s codeExecution 0",
     "onCodeErrorCommand": "scoreboard players set @s codeExecution -1",
     "onCodeStartedCommand": "scoreboard players set @s codeExecution 1",
     "onCodeStoppedCommand": "scoreboard players set @s codeExecution 0",
     "onCodeSuccessfulCommand": "scoreboard players set @s codeExecution 2",
     "overridePython": "def accept():\n    agent.place(1, \"up\")\ndef deny():\n    agent.place(2, \"up\")\n@user-code"
    }
   },
   "outputs": [],
   "source": [
    "block = agent.inspect(\"down\")\n",
    "say(block)\n",
    "if (   ==  \"\" ):\n",
    "    # Fill in the condition above\n",
    "    accept() \n",
    "    "
   ]
  },
  {
   "cell_type": "markdown",
   "metadata": {
    "minecraft": {
     "onCodeCancelledCommand": "scoreboard players set @s codeExecution 0",
     "onCodeErrorCommand": "scoreboard players set @s codeExecution -1",
     "onCodeStartedCommand": "scoreboard players set @s codeExecution 1",
     "onCodeStoppedCommand": "scoreboard players set @s codeExecution 0",
     "onCodeSuccessfulCommand": "scoreboard players set @s codeExecution 2"
    }
   },
   "source": [
    "## Step 4\n",
    "\n",
    "Great! Now with all that together, we can use an `else` statement to deny any blocks that are not wheat.\n",
    "\n",
    "Here's a reminder of what an `else` statement looks like...\n",
    "```python\n",
    "if(condition):\n",
    "    # Code to run if condition is true\n",
    "else:\n",
    "    # Code to run if condition is NOT true\n",
    "```\n",
    "\n",
    "For example:\n",
    "```python\n",
    "name = \"bob\"\n",
    "if (name == \"bob\"):\n",
    "    say(\"It's bob!\")\n",
    "else:\n",
    "    say(\"It isn't bob!\")\n",
    "```\n",
    "\n",
    "**Complete the code below and add a new `else` to run `deny()`**"
   ]
  },
  {
   "cell_type": "code",
   "execution_count": null,
   "metadata": {
    "minecraft": {
     "closeCodeBuilderOnRun": true,
     "default_code": "# Move your agent to the next batch of seeds\nagent.move(\"forward\")\nagent.move(\"forward\")\nagent.move(\"forward\")\n\n# Check the seeds\nblock = agent.inspect(\"down\")\nsay(block)\nif(block == \"wheat\"):\n    accept() \n# Add your else below!\n\n    \n",
     "onCodeCancelledCommand": "scoreboard players set @s codeExecution 0",
     "onCodeErrorCommand": "scoreboard players set @s codeExecution -1",
     "onCodeStartedCommand": "scoreboard players set @s codeExecution 1",
     "onCodeStoppedCommand": "scoreboard players set @s codeExecution 0",
     "onCodeSuccessfulCommand": "scoreboard players set @s codeExecution 2",
     "overridePython": "def accept():\n    agent.place(1, \"up\")\ndef deny():\n    agent.place(2, \"up\")\n@user-code"
    }
   },
   "outputs": [],
   "source": [
    "# Move your agent to the next batch of seeds\n",
    "agent.move(\"forward\")\n",
    "agent.move(\"forward\")\n",
    "agent.move(\"forward\")\n",
    "\n",
    "# Check the seeds\n",
    "block = agent.inspect(\"down\")\n",
    "say(block)\n",
    "if(block == \"wheat\"):\n",
    "    accept() \n",
    "# Add your else below!\n",
    "\n",
    "    "
   ]
  },
  {
   "cell_type": "markdown",
   "metadata": {
    "minecraft": {
     "onCodeCancelledCommand": "scoreboard players set @s codeExecution 0",
     "onCodeErrorCommand": "scoreboard players set @s codeExecution -1",
     "onCodeStartedCommand": "scoreboard players set @s codeExecution 1",
     "onCodeStoppedCommand": "scoreboard players set @s codeExecution 0",
     "onCodeSuccessfulCommand": "scoreboard players set @s codeExecution 2"
    }
   },
   "source": [
    "When you have finished, run your code a few times to get your agent to the end of the field. Then when you have checked all four spots, Peter will want to have a chat with you."
   ]
  },
  {
   "cell_type": "code",
   "execution_count": null,
   "metadata": {
    "default_code": "# Final code\n# Run 4 times\n\n# Move your agent to the next batch of seeds\nagent.move(\"forward\")\nagent.move(\"forward\")\nagent.move(\"forward\")\n\n# Check the seeds\nblock = agent.inspect(\"down\")\nsay(block)\nif(block == \"wheat\"):\n    accept() \nelse:\n    deny()\n   \n   ",
    "minecraft": {
     "hidden": true
    }
   },
   "outputs": [],
   "source": [
    "# Final code\n",
    "# Run 4 times\n",
    "\n",
    "# Move your agent to the next batch of seeds\n",
    "agent.move(\"forward\")\n",
    "agent.move(\"forward\")\n",
    "agent.move(\"forward\")\n",
    "\n",
    "# Check the seeds\n",
    "block = agent.inspect(\"down\")\n",
    "say(block)\n",
    "if(block == \"wheat\"):\n",
    "    accept() \n",
    "else:\n",
    "    deny()\n",
    "\n",
    "    "
   ]
  }
 ],
 "metadata": {
  "kernelspec": {
   "display_name": "Python 3",
   "language": "python",
   "name": "python3"
  },
  "language_info": {
   "codemirror_mode": {
    "name": "ipython",
    "version": 3
   },
   "file_extension": ".py",
   "mimetype": "text/x-python",
   "name": "python",
   "nbconvert_exporter": "python",
   "pygments_lexer": "ipython3",
   "version": "3.8.3rc1"
  },
  "minecraft": {
   "description": "Section 2",
   "page_id": "1.1",
   "page_name": "Section 2",
   "style": "minecraft.css"
  }
 },
 "nbformat": 4,
 "nbformat_minor": 4
}
