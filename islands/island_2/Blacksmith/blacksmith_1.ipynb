{
 "cells": [
  {
   "cell_type": "code",
   "execution_count": null,
   "metadata": {
    "minecraft": {
     "closeCodeBuilderOnRun": true,
     "hidden": true,
     "onCodeCancelledCommand": "scoreboard players set @s codeExecution 0",
     "onCodeErrorCommand": "scoreboard players set @s codeExecution -1",
     "onCodeStartedCommand": "scoreboard players set @s codeExecution 1",
     "onCodeStoppedCommand": "scoreboard players set @s codeExecution 0",
     "onCodeSuccessfulCommand": "scoreboard players set @s codeExecution 2",
     "overridePython": "",
     "readonly": false
    }
   },
   "outputs": [],
   "source": [
    "# REF CONTENT\n",
    "def purity(direction):\n",
    "    block = agent.inspect(\"forward\")\n",
    "    block_data = agent.inspect_data(\"forward\")\n",
    "    if(block == \"iron_ore\"):\n",
    "        return 4\n",
    "    elif(block_data[\"data\"] == \"0\"):\n",
    "        return 3\n",
    "    elif(block_data[\"data\"] == \"15\"):\n",
    "        return 2\n",
    "    elif(block_data[\"data\"] == \"11\"):\n",
    "        return 1\n",
    "    else:\n",
    "        return 0\n",
    "# DENY and ACCEPT functions from f2 Farm task\n",
    "def accept():\n",
    "    agent.place(1, \"up\")\n",
    "def deny():\n",
    "    agent.place(2, \"up\")\n",
    "@user-code\n",
    "\n",
    "# Actual Code by player\n",
    "if(purity(\"forward\") <= 3):\n",
    "    deny()\n",
    "else:\n",
    "    accept()"
   ]
  },
  {
   "cell_type": "markdown",
   "metadata": {},
   "source": [
    "# Extracting Pure Iron\n",
    "\n",
    "Now you have collected the iron ore that is needed. The final step is making sure it is pure enough to use! The Blacksmith has asked you to find the purest of all the iron, using your Agent.\n",
    "\n",
    "![Cover image](cover.png)"
   ]
  },
  {
   "cell_type": "markdown",
   "metadata": {},
   "source": [
    "## Step 1\n",
    "\n",
    "Your agent can check iron purity using a special function called `purity()`.\n",
    "\n",
    "Here's how it works...\n",
    "```python\n",
    "purity(direction)\n",
    "```\n",
    "\n",
    "- `direction`: The direction you want your agent to check. The directions are `up`, `down`, `left`, `right`, `forward` and `back`.\n",
    "\n",
    "The function will return a whole number between 0 and 4, with 4 having the purest iron within the block.   \n",
    "\n",
    "**Complete the code to say the purity of the block placed `forward`**"
   ]
  },
  {
   "cell_type": "code",
   "execution_count": null,
   "metadata": {
    "minecraft": {
     "closeCodeBuilderOnRun": true,
     "onCodeCancelledCommand": "scoreboard players set @s codeExecution 0",
     "onCodeErrorCommand": "scoreboard players set @s codeExecution -1",
     "onCodeStartedCommand": "scoreboard players set @s codeExecution 1",
     "onCodeStoppedCommand": "scoreboard players set @s codeExecution 0",
     "onCodeSuccessfulCommand": "scoreboard players set @s codeExecution 2",
     "overridePython": "def purity(direction):\n    block = agent.inspect(\"forward\")\n    block_data = agent.inspect_data(\"forward\")\n    if(block == \"iron_ore\"):\n        return 4\n    elif(block_data[\"data\"] == \"0\"):\n        return 3\n    elif(block_data[\"data\"] == \"15\"):\n        return 2\n    elif(block_data[\"data\"] == \"11\"):\n        return 1\n    return 0\ndef accept():\n    agent.place(1, \"up\")\ndef deny():\n    agent.place(2, \"up\")\n@user-code",
     "readonly": false
    }
   },
   "outputs": [],
   "source": [
    "say(        )\n",
    "# Complete the code above to say the purity of the block, in front of the Agent"
   ]
  },
  {
   "cell_type": "markdown",
   "metadata": {},
   "source": [
    "## Step 2\n",
    "\n",
    "As we want the purest of iron from our ores, we will use an `if` statement, to check if the purity of the block less than 3.\n",
    "\n",
    "Python includes more than just checking if one item equals another item (using `==`). It also allows you to check for greater than or less than.   \n",
    "For example:   \n",
    "```python\n",
    "age = 11\n",
    "if age >= 10:\n",
    "    say(\"Your age is 10+\")\n",
    "\n",
    "```\n",
    "\n",
    "**Complete the `if` statement below, to run the say command when the purity is `less than or equal` (using  <=  ) to `3`**"
   ]
  },
  {
   "cell_type": "code",
   "execution_count": null,
   "metadata": {
    "minecraft": {
     "closeCodeBuilderOnRun": true,
     "onCodeCancelledCommand": "scoreboard players set @s codeExecution 0",
     "onCodeErrorCommand": "scoreboard players set @s codeExecution -1",
     "onCodeStartedCommand": "scoreboard players set @s codeExecution 1",
     "onCodeStoppedCommand": "scoreboard players set @s codeExecution 0",
     "onCodeSuccessfulCommand": "scoreboard players set @s codeExecution 2",
     "overridePython": "def purity(direction):\n    block = agent.inspect(\"forward\")\n    block_data = agent.inspect_data(\"forward\")\n    if(block == \"iron_ore\"):\n        return 4\n    elif(block_data[\"data\"] == \"0\"):\n        return 3\n    elif(block_data[\"data\"] == \"15\"):\n        return 2\n    elif(block_data[\"data\"] == \"11\"):\n        return 1\n    return 0\ndef accept():\n    agent.place(1, \"up\")\ndef deny():\n    agent.place(2, \"up\")\n@user-code",
     "readonly": false
    }
   },
   "outputs": [],
   "source": [
    "if(purity(\"        \")       3):\n",
    "    # Complete the if statement above\n",
    "    say(\"Purity less than or equal to 3!\")"
   ]
  },
  {
   "cell_type": "markdown",
   "metadata": {},
   "source": [
    "When you're ready, press next to go to the next section."
   ]
  }
 ],
 "metadata": {
  "kernelspec": {
   "display_name": "Python 3",
   "language": "python",
   "name": "python3"
  },
  "language_info": {
   "codemirror_mode": {
    "name": "ipython",
    "version": 3
   },
   "file_extension": ".py",
   "mimetype": "text/x-python",
   "name": "python",
   "nbconvert_exporter": "python",
   "pygments_lexer": "ipython3",
   "version": "3.8.5"
  },
  "minecraft": {
   "description": "Section 1",
   "page_id": "1.1",
   "page_name": "Section 1",
   "style": "minecraft.css"
  }
 },
 "nbformat": 4,
 "nbformat_minor": 4
}
