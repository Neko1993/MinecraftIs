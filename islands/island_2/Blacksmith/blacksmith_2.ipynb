{
 "cells": [
  {
   "cell_type": "markdown",
   "metadata": {},
   "source": [
    "## Step 3\n",
    "\n",
    "Now, with the if statement ready to check for the iron that is not pure enough to be used, let's use the `deny` command, to mark the block as invalid for the Blacksmith.\n",
    "\n",
    "**Add your `deny` command to the code block below, so that it runs when the purity is less than or equal to 3**"
   ]
  },
  {
   "cell_type": "code",
   "execution_count": null,
   "metadata": {
    "minecraft": {
     "closeCodeBuilderOnRun": true,
     "onCodeCancelledCommand": "scoreboard players set @s codeExecution 0",
     "onCodeErrorCommand": "scoreboard players set @s codeExecution -1",
     "onCodeStartedCommand": "scoreboard players set @s codeExecution 1",
     "onCodeStoppedCommand": "scoreboard players set @s codeExecution 0",
     "onCodeSuccessfulCommand": "scoreboard players set @s codeExecution 2",
     "overridePython": "def purity(direction):\n    block = agent.inspect(\"forward\")\n    block_data = agent.inspect_data(\"forward\")\n    if(block == \"iron_ore\"):\n        return 4\n    elif(block_data[\"data\"] == \"0\"):\n        return 3\n    elif(block_data[\"data\"] == \"15\"):\n        return 2\n    elif(block_data[\"data\"] == \"11\"):\n        return 1\n    return 0\ndef accept():\n    agent.place(1, \"up\")\ndef deny():\n    agent.place(2, \"up\")\n@user-code",
     "readonly": false
    }
   },
   "outputs": [],
   "source": [
    "if(purity(\"forward\") <= 3):\n",
    "\n",
    "    # Add your code above\n",
    "    say(\"Purity less than or equal to 3!\")"
   ]
  },
  {
   "cell_type": "markdown",
   "metadata": {},
   "source": [
    "## Step 4\n",
    "\n",
    "Having the code completed for the iron with purity less than or equal to 3, let's add our code for the accepted blocks of iron ore.\n",
    "\n",
    "**Add an `else` statement that executes an `accept` command below your if statement**"
   ]
  },
  {
   "cell_type": "code",
   "execution_count": null,
   "metadata": {
    "minecraft": {
     "closeCodeBuilderOnRun": true,
     "onCodeCancelledCommand": "scoreboard players set @s codeExecution 0",
     "onCodeErrorCommand": "scoreboard players set @s codeExecution -1",
     "onCodeStartedCommand": "scoreboard players set @s codeExecution 1",
     "onCodeStoppedCommand": "scoreboard players set @s codeExecution 0",
     "onCodeSuccessfulCommand": "scoreboard players set @s codeExecution 2",
     "overridePython": "def purity(direction):\n    block = agent.inspect(\"forward\")\n    block_data = agent.inspect_data(\"forward\")\n    if(block == \"iron_ore\"):\n        return 4\n    elif(block_data[\"data\"] == \"0\"):\n        return 3\n    elif(block_data[\"data\"] == \"15\"):\n        return 2\n    elif(block_data[\"data\"] == \"11\"):\n        return 1\n    return 0\ndef accept():\n    agent.place(1, \"up\")\ndef deny():\n    agent.place(2, \"up\")\n@user-code",
     "readonly": false
    }
   },
   "outputs": [],
   "source": [
    "if(purity(\"forward\") <= 3):\n",
    "    deny()\n",
    "    say(\"Purity less than or equal to 3!\")\n",
    "# Add your else code below\n",
    "\n",
    "\n",
    "    say(\"Purity is acceptable!\")\n",
    "    \n",
    "# Add your else code above"
   ]
  },
  {
   "cell_type": "markdown",
   "metadata": {},
   "source": [
    "Now with your code complete, run it over and over again until all the iron has been checked!"
   ]
  },
  {
   "cell_type": "code",
   "execution_count": null,
   "metadata": {
    "minecraft": {
     "hidden": true
    }
   },
   "outputs": [],
   "source": [
    "# Final code\n",
    "# Run 5 times\n",
    "\n",
    "if(purity(\"forward\") <= 3):\n",
    "    deny()\n",
    "    say(\"Purity less than or equal to 3!\")\n",
    "else:   \n",
    "    say(\"Purity is acceptable!\")\n",
    "    accept()"
   ]
  }
 ],
 "metadata": {
  "kernelspec": {
   "display_name": "Python 3",
   "language": "python",
   "name": "python3"
  },
  "language_info": {
   "codemirror_mode": {
    "name": "ipython",
    "version": 3
   },
   "file_extension": ".py",
   "mimetype": "text/x-python",
   "name": "python",
   "nbconvert_exporter": "python",
   "pygments_lexer": "ipython3",
   "version": "3.8.3rc1"
  },
  "minecraft": {
   "description": "Section 2",
   "page_id": "1.2",
   "page_name": "Section 2",
   "style": "minecraft.css"
  }
 },
 "nbformat": 4,
 "nbformat_minor": 4
}
