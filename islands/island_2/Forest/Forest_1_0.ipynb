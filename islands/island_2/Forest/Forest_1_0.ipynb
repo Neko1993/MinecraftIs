{
 "cells": [
  {
   "cell_type": "markdown",
   "metadata": {
    "minecraft": {
     "onCodeCancelledCommand": "scoreboard players set @s codeExecution 0",
     "onCodeErrorCommand": "scoreboard players set @s codeExecution -1",
     "onCodeStartedCommand": "scoreboard players set @s codeExecution 1",
     "onCodeStoppedCommand": "scoreboard players set @s codeExecution 0",
     "onCodeSuccessfulCommand": "scoreboard players set @s codeExecution 2"
    }
   },
   "source": [
    "# Collecting Forest Wood\n",
    "\n",
    "The island's forest has a thick fog over it, making it nearly impossible for the forest explorers to harvest wood for the island!     \n",
    "TJ has asked if you and your agent could harvest some wood from the trees. You can then **keep some for your ladders** as well.   \n",
    "\n",
    "You need to be **extremely** careful though, not to disturb the birds, that are nesting in the trees!   \n",
    "\n",
    "![Cover image of forest](ForestCover.png)"
   ]
  },
  {
   "cell_type": "markdown",
   "metadata": {},
   "source": [
    "#### Introduction\n",
    "\n",
    "TJ has given you a few special functions for your agent to use in this forest task:\n",
    "- `is_nest()`: If there is a birds nest in front of your agent, return back `True`. Otherwise, return back `False`.\n",
    "- `harvest()`: Carefully harvests the wood in front of your agent and then drops it to the ground.\n",
    "- `next()`: TJ will move your agent for you, to the next branch."
   ]
  },
  {
   "cell_type": "markdown",
   "metadata": {
    "minecraft": {
     "onCodeCancelledCommand": "scoreboard players set @s codeExecution 0",
     "onCodeErrorCommand": "scoreboard players set @s codeExecution -1",
     "onCodeStartedCommand": "scoreboard players set @s codeExecution 1",
     "onCodeStoppedCommand": "scoreboard players set @s codeExecution 0",
     "onCodeSuccessfulCommand": "scoreboard players set @s codeExecution 2"
    }
   },
   "source": [
    "## Step 1\n",
    "\n",
    "TJ has moved the agent to directly in front of a branch. Your first job to check (without being able to see the agent), whether there is a nest on the branch.    \n",
    "You can use the `is_nest()` function for this. It will return a `True` if there is a nest, or a `False` if there is just normal wood.\n",
    "\n",
    "**Add is_nest() into the say() command below and try running the code.`**"
   ]
  },
  {
   "cell_type": "code",
   "execution_count": null,
   "metadata": {
    "minecraft": {
     "closeCodeBuilderOnRun": true,
     "onCodeCancelledCommand": "scoreboard players set @s codeExecution 0",
     "onCodeErrorCommand": "scoreboard players set @s codeExecution -1",
     "onCodeStartedCommand": "scoreboard players set @s codeExecution 1",
     "onCodeStoppedCommand": "scoreboard players set @s codeExecution 0",
     "onCodeSuccessfulCommand": "scoreboard players set @s codeExecution 2",
     "overridePython": "def broadcast_position():\n    pos = str(agent.position).split(\" \")\n    world.show_title(f\"I'm at {pos[0]}, {pos[1]}, {pos[2]}\")\ndef harvest():\n    if(agent.inspect(\"forward\") == \"stone\"):\n        agent.destroy('forward')\n        agent.drop(2,1)\n    elif(agent.inspect(\"forward\") == \"leaves\"):\n        agent.destroy('forward')\n        agent.drop(1,1)\ndef is_nest():\n    if(agent.inspect(\"forward\") == \"stone\"):\n        return True\n    return False\ndef next():\n    world.summon(\"snow_golem\", \"166 153 220\")\n@user-code\n"
    }
   },
   "outputs": [],
   "source": [
    "say(    )\n",
    "# Complete the code above"
   ]
  },
  {
   "cell_type": "markdown",
   "metadata": {
    "minecraft": {
     "onCodeCancelledCommand": "scoreboard players set @s codeExecution 0",
     "onCodeErrorCommand": "scoreboard players set @s codeExecution -1",
     "onCodeStartedCommand": "scoreboard players set @s codeExecution 1",
     "onCodeStoppedCommand": "scoreboard players set @s codeExecution 0",
     "onCodeSuccessfulCommand": "scoreboard players set @s codeExecution 2"
    }
   },
   "source": [
    "## Step 2\n",
    "\n",
    "Now that you know how to use `is_nest()`, we can use it with an `if` statement, to check **if** the block in front is a nest.    \n",
    "If there is a nest, we want to leave it alone and run `next()` to go to the next area.\n",
    "\n",
    "**Complete the `if` statement to check if `is_nest()` is equal to `True`. If it is, run `next()`**"
   ]
  },
  {
   "cell_type": "code",
   "execution_count": null,
   "metadata": {
    "minecraft": {
     "closeCodeBuilderOnRun": true,
     "onCodeCancelledCommand": "scoreboard players set @s codeExecution 0",
     "onCodeErrorCommand": "scoreboard players set @s codeExecution -1",
     "onCodeStartedCommand": "scoreboard players set @s codeExecution 1",
     "onCodeStoppedCommand": "scoreboard players set @s codeExecution 0",
     "onCodeSuccessfulCommand": "scoreboard players set @s codeExecution 2",
     "overridePython": "def broadcast_position():\n    pos = str(agent.position).split(\" \")\n    world.show_title(f\"I'm at {pos[0]}, {pos[1]}, {pos[2]}\")\ndef harvest():\n    if(agent.inspect(\"forward\") == \"stone\"):\n        agent.destroy('forward')\n        agent.drop(2,1)\n    elif(agent.inspect(\"forward\") == \"leaves\"):\n        agent.destroy('forward')\n        agent.drop(1,1)\ndef is_nest():\n    if(agent.inspect(\"forward\") == \"stone\"):\n        return True\n    return False\ndef next():\n    world.summon(\"snow_golem\", \"166 153 220\")\n@user-code\n"
    }
   },
   "outputs": [],
   "source": [
    "if(    ==   ):\n",
    "    say(\"I found a nest!\")\n",
    "    \n",
    "    # Complete the if statement above and add a next() below the say()\n",
    "    \n",
    "    "
   ]
  },
  {
   "cell_type": "markdown",
   "metadata": {
    "minecraft": {
     "onCodeCancelledCommand": "scoreboard players set @s codeExecution 0",
     "onCodeErrorCommand": "scoreboard players set @s codeExecution -1",
     "onCodeStartedCommand": "scoreboard players set @s codeExecution 1",
     "onCodeStoppedCommand": "scoreboard players set @s codeExecution 0",
     "onCodeSuccessfulCommand": "scoreboard players set @s codeExecution 2"
    }
   },
   "source": [
    "Great! When you're ready, press next to go to the next section."
   ]
  }
 ],
 "metadata": {
  "kernelspec": {
   "display_name": "Python 3",
   "language": "python",
   "name": "python3"
  },
  "language_info": {
   "codemirror_mode": {
    "name": "ipython",
    "version": 3
   },
   "file_extension": ".py",
   "mimetype": "text/x-python",
   "name": "python",
   "nbconvert_exporter": "python",
   "pygments_lexer": "ipython3",
   "version": "3.8.5"
  },
  "minecraft": {
   "description": "Section 1",
   "page_id": "1.0",
   "page_name": "Section 1",
   "style": "minecraft.css"
  }
 },
 "nbformat": 4,
 "nbformat_minor": 4
}
